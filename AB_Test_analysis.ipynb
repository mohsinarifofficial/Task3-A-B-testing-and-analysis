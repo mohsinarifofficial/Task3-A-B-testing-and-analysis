{
 "cells": [
  {
   "cell_type": "code",
   "execution_count": 1,
   "id": "f3895b01",
   "metadata": {},
   "outputs": [],
   "source": [
    "import numpy as np\n",
    "import pandas as pd\n",
    "from scipy import stats\n",
    "import matplotlib.pyplot as plt\n",
    "import seaborn as sns\n",
    "\n",
    "import warnings\n",
    "warnings.filterwarnings('ignore')"
   ]
  },
  {
   "cell_type": "code",
   "execution_count": 2,
   "id": "dbfa1cab",
   "metadata": {},
   "outputs": [
    {
     "data": {
      "text/html": [
       "<div>\n",
       "<style scoped>\n",
       "    .dataframe tbody tr th:only-of-type {\n",
       "        vertical-align: middle;\n",
       "    }\n",
       "\n",
       "    .dataframe tbody tr th {\n",
       "        vertical-align: top;\n",
       "    }\n",
       "\n",
       "    .dataframe thead th {\n",
       "        text-align: right;\n",
       "    }\n",
       "</style>\n",
       "<table border=\"1\" class=\"dataframe\">\n",
       "  <thead>\n",
       "    <tr style=\"text-align: right;\">\n",
       "      <th></th>\n",
       "      <th>Unnamed: 0</th>\n",
       "      <th>user id</th>\n",
       "      <th>test group</th>\n",
       "      <th>converted</th>\n",
       "      <th>total ads</th>\n",
       "      <th>most ads day</th>\n",
       "      <th>most ads hour</th>\n",
       "    </tr>\n",
       "  </thead>\n",
       "  <tbody>\n",
       "    <tr>\n",
       "      <th>0</th>\n",
       "      <td>0</td>\n",
       "      <td>1069124</td>\n",
       "      <td>ad</td>\n",
       "      <td>False</td>\n",
       "      <td>130</td>\n",
       "      <td>Monday</td>\n",
       "      <td>20</td>\n",
       "    </tr>\n",
       "    <tr>\n",
       "      <th>1</th>\n",
       "      <td>1</td>\n",
       "      <td>1119715</td>\n",
       "      <td>ad</td>\n",
       "      <td>False</td>\n",
       "      <td>93</td>\n",
       "      <td>Tuesday</td>\n",
       "      <td>22</td>\n",
       "    </tr>\n",
       "    <tr>\n",
       "      <th>2</th>\n",
       "      <td>2</td>\n",
       "      <td>1144181</td>\n",
       "      <td>ad</td>\n",
       "      <td>False</td>\n",
       "      <td>21</td>\n",
       "      <td>Tuesday</td>\n",
       "      <td>18</td>\n",
       "    </tr>\n",
       "    <tr>\n",
       "      <th>3</th>\n",
       "      <td>3</td>\n",
       "      <td>1435133</td>\n",
       "      <td>ad</td>\n",
       "      <td>False</td>\n",
       "      <td>355</td>\n",
       "      <td>Tuesday</td>\n",
       "      <td>10</td>\n",
       "    </tr>\n",
       "    <tr>\n",
       "      <th>4</th>\n",
       "      <td>4</td>\n",
       "      <td>1015700</td>\n",
       "      <td>ad</td>\n",
       "      <td>False</td>\n",
       "      <td>276</td>\n",
       "      <td>Friday</td>\n",
       "      <td>14</td>\n",
       "    </tr>\n",
       "    <tr>\n",
       "      <th>5</th>\n",
       "      <td>5</td>\n",
       "      <td>1137664</td>\n",
       "      <td>ad</td>\n",
       "      <td>False</td>\n",
       "      <td>734</td>\n",
       "      <td>Saturday</td>\n",
       "      <td>10</td>\n",
       "    </tr>\n",
       "    <tr>\n",
       "      <th>6</th>\n",
       "      <td>6</td>\n",
       "      <td>1116205</td>\n",
       "      <td>ad</td>\n",
       "      <td>False</td>\n",
       "      <td>264</td>\n",
       "      <td>Wednesday</td>\n",
       "      <td>13</td>\n",
       "    </tr>\n",
       "    <tr>\n",
       "      <th>7</th>\n",
       "      <td>7</td>\n",
       "      <td>1496843</td>\n",
       "      <td>ad</td>\n",
       "      <td>False</td>\n",
       "      <td>17</td>\n",
       "      <td>Sunday</td>\n",
       "      <td>18</td>\n",
       "    </tr>\n",
       "    <tr>\n",
       "      <th>8</th>\n",
       "      <td>8</td>\n",
       "      <td>1448851</td>\n",
       "      <td>ad</td>\n",
       "      <td>False</td>\n",
       "      <td>21</td>\n",
       "      <td>Tuesday</td>\n",
       "      <td>19</td>\n",
       "    </tr>\n",
       "    <tr>\n",
       "      <th>9</th>\n",
       "      <td>9</td>\n",
       "      <td>1446284</td>\n",
       "      <td>ad</td>\n",
       "      <td>False</td>\n",
       "      <td>142</td>\n",
       "      <td>Monday</td>\n",
       "      <td>14</td>\n",
       "    </tr>\n",
       "  </tbody>\n",
       "</table>\n",
       "</div>"
      ],
      "text/plain": [
       "   Unnamed: 0  user id test group  converted  total ads most ads day  \\\n",
       "0           0  1069124         ad      False        130       Monday   \n",
       "1           1  1119715         ad      False         93      Tuesday   \n",
       "2           2  1144181         ad      False         21      Tuesday   \n",
       "3           3  1435133         ad      False        355      Tuesday   \n",
       "4           4  1015700         ad      False        276       Friday   \n",
       "5           5  1137664         ad      False        734     Saturday   \n",
       "6           6  1116205         ad      False        264    Wednesday   \n",
       "7           7  1496843         ad      False         17       Sunday   \n",
       "8           8  1448851         ad      False         21      Tuesday   \n",
       "9           9  1446284         ad      False        142       Monday   \n",
       "\n",
       "   most ads hour  \n",
       "0             20  \n",
       "1             22  \n",
       "2             18  \n",
       "3             10  \n",
       "4             14  \n",
       "5             10  \n",
       "6             13  \n",
       "7             18  \n",
       "8             19  \n",
       "9             14  "
      ]
     },
     "execution_count": 2,
     "metadata": {},
     "output_type": "execute_result"
    }
   ],
   "source": [
    "data=pd.read_csv(\"F:/MyUCP/DataScience/Training/A_B_Test_Analyis/marketing_AB.csv\")\n",
    "data.head(10)"
   ]
  },
  {
   "cell_type": "code",
   "execution_count": 3,
   "id": "607974e6",
   "metadata": {},
   "outputs": [
    {
     "data": {
      "text/html": [
       "<div>\n",
       "<style scoped>\n",
       "    .dataframe tbody tr th:only-of-type {\n",
       "        vertical-align: middle;\n",
       "    }\n",
       "\n",
       "    .dataframe tbody tr th {\n",
       "        vertical-align: top;\n",
       "    }\n",
       "\n",
       "    .dataframe thead th {\n",
       "        text-align: right;\n",
       "    }\n",
       "</style>\n",
       "<table border=\"1\" class=\"dataframe\">\n",
       "  <thead>\n",
       "    <tr style=\"text-align: right;\">\n",
       "      <th></th>\n",
       "      <th>Unnamed: 0</th>\n",
       "      <th>user id</th>\n",
       "      <th>total ads</th>\n",
       "      <th>most ads hour</th>\n",
       "    </tr>\n",
       "  </thead>\n",
       "  <tbody>\n",
       "    <tr>\n",
       "      <th>count</th>\n",
       "      <td>588101.000000</td>\n",
       "      <td>5.881010e+05</td>\n",
       "      <td>588101.000000</td>\n",
       "      <td>588101.000000</td>\n",
       "    </tr>\n",
       "    <tr>\n",
       "      <th>mean</th>\n",
       "      <td>294050.000000</td>\n",
       "      <td>1.310692e+06</td>\n",
       "      <td>24.820876</td>\n",
       "      <td>14.469061</td>\n",
       "    </tr>\n",
       "    <tr>\n",
       "      <th>std</th>\n",
       "      <td>169770.279667</td>\n",
       "      <td>2.022260e+05</td>\n",
       "      <td>43.715181</td>\n",
       "      <td>4.834634</td>\n",
       "    </tr>\n",
       "    <tr>\n",
       "      <th>min</th>\n",
       "      <td>0.000000</td>\n",
       "      <td>9.000000e+05</td>\n",
       "      <td>1.000000</td>\n",
       "      <td>0.000000</td>\n",
       "    </tr>\n",
       "    <tr>\n",
       "      <th>25%</th>\n",
       "      <td>147025.000000</td>\n",
       "      <td>1.143190e+06</td>\n",
       "      <td>4.000000</td>\n",
       "      <td>11.000000</td>\n",
       "    </tr>\n",
       "    <tr>\n",
       "      <th>50%</th>\n",
       "      <td>294050.000000</td>\n",
       "      <td>1.313725e+06</td>\n",
       "      <td>13.000000</td>\n",
       "      <td>14.000000</td>\n",
       "    </tr>\n",
       "    <tr>\n",
       "      <th>75%</th>\n",
       "      <td>441075.000000</td>\n",
       "      <td>1.484088e+06</td>\n",
       "      <td>27.000000</td>\n",
       "      <td>18.000000</td>\n",
       "    </tr>\n",
       "    <tr>\n",
       "      <th>max</th>\n",
       "      <td>588100.000000</td>\n",
       "      <td>1.654483e+06</td>\n",
       "      <td>2065.000000</td>\n",
       "      <td>23.000000</td>\n",
       "    </tr>\n",
       "  </tbody>\n",
       "</table>\n",
       "</div>"
      ],
      "text/plain": [
       "          Unnamed: 0       user id      total ads  most ads hour\n",
       "count  588101.000000  5.881010e+05  588101.000000  588101.000000\n",
       "mean   294050.000000  1.310692e+06      24.820876      14.469061\n",
       "std    169770.279667  2.022260e+05      43.715181       4.834634\n",
       "min         0.000000  9.000000e+05       1.000000       0.000000\n",
       "25%    147025.000000  1.143190e+06       4.000000      11.000000\n",
       "50%    294050.000000  1.313725e+06      13.000000      14.000000\n",
       "75%    441075.000000  1.484088e+06      27.000000      18.000000\n",
       "max    588100.000000  1.654483e+06    2065.000000      23.000000"
      ]
     },
     "execution_count": 3,
     "metadata": {},
     "output_type": "execute_result"
    }
   ],
   "source": [
    "data.describe()"
   ]
  },
  {
   "cell_type": "code",
   "execution_count": 4,
   "id": "4b6fa639",
   "metadata": {},
   "outputs": [
    {
     "data": {
      "text/plain": [
       "(588101, 7)"
      ]
     },
     "execution_count": 4,
     "metadata": {},
     "output_type": "execute_result"
    }
   ],
   "source": [
    "data.shape"
   ]
  },
  {
   "cell_type": "code",
   "execution_count": 5,
   "id": "5b13865c",
   "metadata": {},
   "outputs": [
    {
     "data": {
      "text/plain": [
       "Unnamed: 0        int64\n",
       "user id           int64\n",
       "test group       object\n",
       "converted          bool\n",
       "total ads         int64\n",
       "most ads day     object\n",
       "most ads hour     int64\n",
       "dtype: object"
      ]
     },
     "execution_count": 5,
     "metadata": {},
     "output_type": "execute_result"
    }
   ],
   "source": [
    "data.dtypes"
   ]
  },
  {
   "cell_type": "code",
   "execution_count": 6,
   "id": "6485c890",
   "metadata": {},
   "outputs": [
    {
     "data": {
      "text/plain": [
       "Unnamed: 0       0\n",
       "user id          0\n",
       "test group       0\n",
       "converted        0\n",
       "total ads        0\n",
       "most ads day     0\n",
       "most ads hour    0\n",
       "dtype: int64"
      ]
     },
     "execution_count": 6,
     "metadata": {},
     "output_type": "execute_result"
    }
   ],
   "source": [
    "data.isna().sum()"
   ]
  },
  {
   "cell_type": "code",
   "execution_count": 7,
   "id": "b4dbb033",
   "metadata": {},
   "outputs": [
    {
     "name": "stdout",
     "output_type": "stream",
     "text": [
      "<class 'pandas.core.frame.DataFrame'>\n",
      "RangeIndex: 588101 entries, 0 to 588100\n",
      "Data columns (total 7 columns):\n",
      " #   Column         Non-Null Count   Dtype \n",
      "---  ------         --------------   ----- \n",
      " 0   Unnamed: 0     588101 non-null  int64 \n",
      " 1   user id        588101 non-null  int64 \n",
      " 2   test group     588101 non-null  object\n",
      " 3   converted      588101 non-null  bool  \n",
      " 4   total ads      588101 non-null  int64 \n",
      " 5   most ads day   588101 non-null  object\n",
      " 6   most ads hour  588101 non-null  int64 \n",
      "dtypes: bool(1), int64(4), object(2)\n",
      "memory usage: 27.5+ MB\n"
     ]
    }
   ],
   "source": [
    "data.info()"
   ]
  },
  {
   "cell_type": "code",
   "execution_count": 8,
   "id": "75e9cb88",
   "metadata": {},
   "outputs": [
    {
     "data": {
      "text/html": [
       "<div>\n",
       "<style scoped>\n",
       "    .dataframe tbody tr th:only-of-type {\n",
       "        vertical-align: middle;\n",
       "    }\n",
       "\n",
       "    .dataframe tbody tr th {\n",
       "        vertical-align: top;\n",
       "    }\n",
       "\n",
       "    .dataframe thead th {\n",
       "        text-align: right;\n",
       "    }\n",
       "</style>\n",
       "<table border=\"1\" class=\"dataframe\">\n",
       "  <thead>\n",
       "    <tr style=\"text-align: right;\">\n",
       "      <th></th>\n",
       "      <th>count</th>\n",
       "      <th>mean</th>\n",
       "      <th>std</th>\n",
       "      <th>min</th>\n",
       "      <th>25%</th>\n",
       "      <th>50%</th>\n",
       "      <th>75%</th>\n",
       "      <th>max</th>\n",
       "    </tr>\n",
       "  </thead>\n",
       "  <tbody>\n",
       "    <tr>\n",
       "      <th>Unnamed: 0</th>\n",
       "      <td>588101.0</td>\n",
       "      <td>2.940500e+05</td>\n",
       "      <td>169770.279667</td>\n",
       "      <td>0.0</td>\n",
       "      <td>147025.0</td>\n",
       "      <td>294050.0</td>\n",
       "      <td>441075.0</td>\n",
       "      <td>588100.0</td>\n",
       "    </tr>\n",
       "    <tr>\n",
       "      <th>user id</th>\n",
       "      <td>588101.0</td>\n",
       "      <td>1.310692e+06</td>\n",
       "      <td>202225.983128</td>\n",
       "      <td>900000.0</td>\n",
       "      <td>1143190.0</td>\n",
       "      <td>1313725.0</td>\n",
       "      <td>1484088.0</td>\n",
       "      <td>1654483.0</td>\n",
       "    </tr>\n",
       "    <tr>\n",
       "      <th>total ads</th>\n",
       "      <td>588101.0</td>\n",
       "      <td>2.482088e+01</td>\n",
       "      <td>43.715181</td>\n",
       "      <td>1.0</td>\n",
       "      <td>4.0</td>\n",
       "      <td>13.0</td>\n",
       "      <td>27.0</td>\n",
       "      <td>2065.0</td>\n",
       "    </tr>\n",
       "    <tr>\n",
       "      <th>most ads hour</th>\n",
       "      <td>588101.0</td>\n",
       "      <td>1.446906e+01</td>\n",
       "      <td>4.834634</td>\n",
       "      <td>0.0</td>\n",
       "      <td>11.0</td>\n",
       "      <td>14.0</td>\n",
       "      <td>18.0</td>\n",
       "      <td>23.0</td>\n",
       "    </tr>\n",
       "  </tbody>\n",
       "</table>\n",
       "</div>"
      ],
      "text/plain": [
       "                  count          mean            std       min        25%  \\\n",
       "Unnamed: 0     588101.0  2.940500e+05  169770.279667       0.0   147025.0   \n",
       "user id        588101.0  1.310692e+06  202225.983128  900000.0  1143190.0   \n",
       "total ads      588101.0  2.482088e+01      43.715181       1.0        4.0   \n",
       "most ads hour  588101.0  1.446906e+01       4.834634       0.0       11.0   \n",
       "\n",
       "                     50%        75%        max  \n",
       "Unnamed: 0      294050.0   441075.0   588100.0  \n",
       "user id        1313725.0  1484088.0  1654483.0  \n",
       "total ads           13.0       27.0     2065.0  \n",
       "most ads hour       14.0       18.0       23.0  "
      ]
     },
     "execution_count": 8,
     "metadata": {},
     "output_type": "execute_result"
    }
   ],
   "source": [
    "data.describe().T"
   ]
  },
  {
   "cell_type": "code",
   "execution_count": 10,
   "id": "96f9fdd3",
   "metadata": {},
   "outputs": [
    {
     "data": {
      "text/plain": [
       "array(['ad', 'psa'], dtype=object)"
      ]
     },
     "execution_count": 10,
     "metadata": {},
     "output_type": "execute_result"
    }
   ],
   "source": [
    "# Need to have a look at Unique values of each column\n",
    "data[\"test group\"].unique()"
   ]
  },
  {
   "cell_type": "code",
   "execution_count": 11,
   "id": "b2d047d8",
   "metadata": {},
   "outputs": [
    {
     "data": {
      "text/plain": [
       "array([False,  True])"
      ]
     },
     "execution_count": 11,
     "metadata": {},
     "output_type": "execute_result"
    }
   ],
   "source": [
    "data[\"converted\"].unique()"
   ]
  },
  {
   "cell_type": "code",
   "execution_count": 12,
   "id": "52f3d63b",
   "metadata": {},
   "outputs": [
    {
     "data": {
      "text/plain": [
       "array([ 130,   93,   21,  355,  276,  734,  264,   17,  142,  209,   47,\n",
       "         61,   40,   20,    9,   64,   26,  248,   73,  281,  389,  136,\n",
       "         87,   46,    3,  114,  175,  119,  313,   89,  364,   24,  112,\n",
       "         49,   27,  274,   45,  177,   90,  265,   71,   31,  588,   56,\n",
       "        108,  103,  239,   63,   66,  111,   74,   14,  258, 1057,  137,\n",
       "        131,  124,   13,   37,  738,  199,  211,   98,   19,  127,   18,\n",
       "        126,  197,   77,   60,   95,   97,   22,  117,   41,   57,  593,\n",
       "         28,   85,   53,   43,  133,   33, 1328,    7,    6,   62,  247,\n",
       "        464,   99,  233,  139,  407,  323,   76,  395,  166,   34,  246,\n",
       "        653,  122,   32,  386,   44,  138,  109,   39,  159,   30,   59,\n",
       "        421,  446,  555,  105,  128,  310,  163,   10,  290,  164,   79,\n",
       "        312,   16,  161,  505,  640,  118,  266,  456,   80,  100,  983,\n",
       "         36,    1,    5,  463,  720,   52,  442,  334, 1056,  270,  240,\n",
       "        194,  271,  489,  115,  180,  241,   15,  154,  120,   29,  107,\n",
       "        176,    8,  146,  121,   50,   69,  297,   35,   78,  170,  214,\n",
       "         81,    2,   38,  681,  733,   23,  157,  153,  135,   88,  167,\n",
       "          4,   58,  195,  318,   48,   83,   96,  392,  371,   91,   68,\n",
       "        427,  516,  249,   54,   11,   25,  171,   55,  403,  140,  455,\n",
       "        222,   82,  168,  225,  633,  116,  188,  423,   70,  110,  311,\n",
       "        174,  208,   92,  172,  657,  260,  191,  173,  245,  150,   84,\n",
       "        134,  526,  607,   75,  302,   94,  294,  288,   42,  123,  179,\n",
       "        160,   51,  190,  221,  216,  347,  102,   65, 1632,  106,  125,\n",
       "        317,  206,  350,  202,  148,  145,  525,  445,  309,  186,  486,\n",
       "        380,  178,  321,  205,   86,  149,  413,   67,  587,  351,  147,\n",
       "        144,  470,  387,  335,  235,  306,  230,  535,  181,  401,  394,\n",
       "        568,  155,  326,  308,  617,   12,  655,  158,  375,  237,  104,\n",
       "        218,  215,  345,  141,  253,   72,  193,  700,  400, 1015,  360,\n",
       "       1128,  292,  151,  224,  779,  213,  304,  220,  207,  261,  536,\n",
       "        515,  184,  152,  232,  490,  228,  532,  790,  203,  285,  234,\n",
       "        429,  325,  231,  101,  393,  129,  352,  182,  332,  307,  378,\n",
       "        226,  642,  385,  187,  452,  132,  504,  143,  198,  243,  269,\n",
       "        447,  287,  468,  338,  185,  728,  169,  113,  991,  514,  554,\n",
       "        571,  192,  298,  242,  542,  698,  196, 1173,  183,  466,  156,\n",
       "        257,  189,  305,  438,  212,  461,  286,  252,  521,  162,  354,\n",
       "        353,  857,  315,  272,  284,  262,  374,  283,  675,  566,  582,\n",
       "        399,  411,  368,  404,  280,  487,  602,  443,  950,  362,  523,\n",
       "        301,  259,  165,  376,  219,  679,  358, 1021,  251,  282,  329,\n",
       "       1135,  383,  761,  481,  291,  594,  688,  328,  238,  327,  441,\n",
       "        430,  434,  300,  416,  357,  275,  558,  448,  499,  279,  546,\n",
       "        359,  426,  817,  433,  610, 1010,  343,  341,  420,  474,  622,\n",
       "        654,  348,  459,  507,  250,  388,  592,  200,  322,  227,  802,\n",
       "        295,  467,  217,  806,  414,  599,  612,  316,  415,  631,  256,\n",
       "        606,  278,  320, 1011,  236,  223,  739,  444,  396,  758, 1020,\n",
       "        370,  947,  277,  485,  412,  436,  477,  273,  541,  244,  825,\n",
       "        613,  263,  204,  342,  372,  805,  356,  267,  820,  852,  408,\n",
       "        809,  268,  324,  379,  527,  336,  503,  465,  451,  432,  480,\n",
       "        719,  771,  629,  473,  254,  552,  484,  603,  210,  373,  417,\n",
       "        425,  418,  584,  391,  479,  938,  361,  424,  497, 1129,  687,\n",
       "        303,  369,  569,  628,  563,  330,  201,  670,  564,  586,  842,\n",
       "        337,  339,  314,  630,  491,  731,  340,  382,  296,  492,  502,\n",
       "        601,  437,  509,  346,  494,  804,  501,  540,  595,  578,  920,\n",
       "        493,  794,  293,  518,  440,  652,  598,  724,  344,  764, 1680,\n",
       "        641,  365, 1100,  410,  907,  333,  255,  506,  331,  845,  435,\n",
       "        742,  496,  667,  705,  689,  457,  591,  495,  551,  608,  319,\n",
       "        367,  402,  619,  299,  647,  522, 1229,  562, 1398,  229,  377,\n",
       "        634,  478,  703,  662,  556,  462,  483,  431,  405,  710,  636,\n",
       "        775,  539,  557,  574,  714,  609,  524,  449,  476,  544,  545,\n",
       "        512,  428,  678,  406,  797,  639,  702, 1016,  453,  482,  575,\n",
       "        289,  745,  381,  397,  621,  909,  585,  580,  409, 1491,  727,\n",
       "        926,  711,  815,  419, 1302,  735, 1035,  517,  716,  789, 1014,\n",
       "        572,  363, 1414,  643,  627,  645,  753,  533,  887,  384,  704,\n",
       "        709,  460,  854, 1267,  663,  488,  439,  547,  840,  472,  510,\n",
       "        863,  520,  366,  781,  769,  511,  744,  398,  743,  646,  349,\n",
       "        865,  538,  422,  660, 1003,  615,  549,  894,  500,  713,  723,\n",
       "        915, 1321, 2065, 1354,  722,  561, 1101,  519,  560,  471, 1196,\n",
       "        665,  828,  573,  961,  799,  651,  454,  597,  648,  934,  620,\n",
       "        690, 1778,  616,  637,  624,  390,  530,  772,  604,  656,  760,\n",
       "        786,  469,  649,  925,  798,  548,  611,  841,  625,  691,  888,\n",
       "        932,  695,  785, 1146,  891,  883,  581,  911,  565,  638,  550,\n",
       "        583,  800,  664, 1391,  699,  827,  791,  579,  955,  901,  570,\n",
       "        763,  672,  812,  669,  788,  596,  458,  986, 1232, 1032,  908,\n",
       "        873,  923,  567,  730,  498,  792,  543,  759,  885,  858,  869,\n",
       "        508,  475,  450,  659,  559,  712,  684,  904,  680,  706,  921,\n",
       "        673,  952,  808,  729], dtype=int64)"
      ]
     },
     "execution_count": 12,
     "metadata": {},
     "output_type": "execute_result"
    }
   ],
   "source": [
    "data[\"total ads\"].unique()"
   ]
  },
  {
   "cell_type": "code",
   "execution_count": 13,
   "id": "050ce2b0",
   "metadata": {},
   "outputs": [
    {
     "data": {
      "text/plain": [
       "array(['Monday', 'Tuesday', 'Friday', 'Saturday', 'Wednesday', 'Sunday',\n",
       "       'Thursday'], dtype=object)"
      ]
     },
     "execution_count": 13,
     "metadata": {},
     "output_type": "execute_result"
    }
   ],
   "source": [
    "data[\"most ads day\"].unique()"
   ]
  },
  {
   "cell_type": "code",
   "execution_count": 14,
   "id": "9c2c1474",
   "metadata": {},
   "outputs": [
    {
     "data": {
      "text/plain": [
       "array([20, 22, 18, 10, 14, 13, 19, 11, 12, 16, 21,  3, 23,  4,  8,  0,  2,\n",
       "       15,  1,  6, 17,  7,  9,  5], dtype=int64)"
      ]
     },
     "execution_count": 14,
     "metadata": {},
     "output_type": "execute_result"
    }
   ],
   "source": [
    "data[\"most ads hour\"].unique()"
   ]
  },
  {
   "cell_type": "code",
   "execution_count": 17,
   "id": "fd9779f1",
   "metadata": {},
   "outputs": [
    {
     "data": {
      "text/plain": [
       "Unnamed: 0        int64\n",
       "user id           int64\n",
       "test group       object\n",
       "converted         int32\n",
       "total ads         int64\n",
       "most ads day     object\n",
       "most ads hour     int64\n",
       "dtype: object"
      ]
     },
     "execution_count": 17,
     "metadata": {},
     "output_type": "execute_result"
    }
   ],
   "source": [
    "# Data processing \n",
    "#in data processig i will convert [convreted] into int type\n",
    "data[\"converted\"]=data[\"converted\"].astype(int)\n",
    "data.dtypes"
   ]
  },
  {
   "cell_type": "code",
   "execution_count": 26,
   "id": "d77ec3a3",
   "metadata": {},
   "outputs": [
    {
     "data": {
      "text/html": [
       "<div>\n",
       "<style scoped>\n",
       "    .dataframe tbody tr th:only-of-type {\n",
       "        vertical-align: middle;\n",
       "    }\n",
       "\n",
       "    .dataframe tbody tr th {\n",
       "        vertical-align: top;\n",
       "    }\n",
       "\n",
       "    .dataframe thead th {\n",
       "        text-align: right;\n",
       "    }\n",
       "</style>\n",
       "<table border=\"1\" class=\"dataframe\">\n",
       "  <thead>\n",
       "    <tr style=\"text-align: right;\">\n",
       "      <th></th>\n",
       "      <th>Unnamed: 0</th>\n",
       "      <th>user id</th>\n",
       "      <th>test group</th>\n",
       "      <th>converted</th>\n",
       "      <th>total ads</th>\n",
       "      <th>most ads day</th>\n",
       "      <th>most ads hour</th>\n",
       "    </tr>\n",
       "  </thead>\n",
       "  <tbody>\n",
       "    <tr>\n",
       "      <th>0</th>\n",
       "      <td>0</td>\n",
       "      <td>1069124</td>\n",
       "      <td>ad</td>\n",
       "      <td>0</td>\n",
       "      <td>130</td>\n",
       "      <td>Monday</td>\n",
       "      <td>20</td>\n",
       "    </tr>\n",
       "    <tr>\n",
       "      <th>1</th>\n",
       "      <td>1</td>\n",
       "      <td>1119715</td>\n",
       "      <td>ad</td>\n",
       "      <td>0</td>\n",
       "      <td>93</td>\n",
       "      <td>Tuesday</td>\n",
       "      <td>22</td>\n",
       "    </tr>\n",
       "    <tr>\n",
       "      <th>2</th>\n",
       "      <td>2</td>\n",
       "      <td>1144181</td>\n",
       "      <td>ad</td>\n",
       "      <td>0</td>\n",
       "      <td>21</td>\n",
       "      <td>Tuesday</td>\n",
       "      <td>18</td>\n",
       "    </tr>\n",
       "    <tr>\n",
       "      <th>3</th>\n",
       "      <td>3</td>\n",
       "      <td>1435133</td>\n",
       "      <td>ad</td>\n",
       "      <td>0</td>\n",
       "      <td>355</td>\n",
       "      <td>Tuesday</td>\n",
       "      <td>10</td>\n",
       "    </tr>\n",
       "    <tr>\n",
       "      <th>4</th>\n",
       "      <td>4</td>\n",
       "      <td>1015700</td>\n",
       "      <td>ad</td>\n",
       "      <td>0</td>\n",
       "      <td>276</td>\n",
       "      <td>Friday</td>\n",
       "      <td>14</td>\n",
       "    </tr>\n",
       "    <tr>\n",
       "      <th>...</th>\n",
       "      <td>...</td>\n",
       "      <td>...</td>\n",
       "      <td>...</td>\n",
       "      <td>...</td>\n",
       "      <td>...</td>\n",
       "      <td>...</td>\n",
       "      <td>...</td>\n",
       "    </tr>\n",
       "    <tr>\n",
       "      <th>588096</th>\n",
       "      <td>588096</td>\n",
       "      <td>1278437</td>\n",
       "      <td>ad</td>\n",
       "      <td>0</td>\n",
       "      <td>1</td>\n",
       "      <td>Tuesday</td>\n",
       "      <td>23</td>\n",
       "    </tr>\n",
       "    <tr>\n",
       "      <th>588097</th>\n",
       "      <td>588097</td>\n",
       "      <td>1327975</td>\n",
       "      <td>ad</td>\n",
       "      <td>0</td>\n",
       "      <td>1</td>\n",
       "      <td>Tuesday</td>\n",
       "      <td>23</td>\n",
       "    </tr>\n",
       "    <tr>\n",
       "      <th>588098</th>\n",
       "      <td>588098</td>\n",
       "      <td>1038442</td>\n",
       "      <td>ad</td>\n",
       "      <td>0</td>\n",
       "      <td>3</td>\n",
       "      <td>Tuesday</td>\n",
       "      <td>23</td>\n",
       "    </tr>\n",
       "    <tr>\n",
       "      <th>588099</th>\n",
       "      <td>588099</td>\n",
       "      <td>1496395</td>\n",
       "      <td>ad</td>\n",
       "      <td>0</td>\n",
       "      <td>1</td>\n",
       "      <td>Tuesday</td>\n",
       "      <td>23</td>\n",
       "    </tr>\n",
       "    <tr>\n",
       "      <th>588100</th>\n",
       "      <td>588100</td>\n",
       "      <td>1237779</td>\n",
       "      <td>ad</td>\n",
       "      <td>0</td>\n",
       "      <td>1</td>\n",
       "      <td>Tuesday</td>\n",
       "      <td>23</td>\n",
       "    </tr>\n",
       "  </tbody>\n",
       "</table>\n",
       "<p>564577 rows × 7 columns</p>\n",
       "</div>"
      ],
      "text/plain": [
       "        Unnamed: 0  user id test group  converted  total ads most ads day  \\\n",
       "0                0  1069124         ad          0        130       Monday   \n",
       "1                1  1119715         ad          0         93      Tuesday   \n",
       "2                2  1144181         ad          0         21      Tuesday   \n",
       "3                3  1435133         ad          0        355      Tuesday   \n",
       "4                4  1015700         ad          0        276       Friday   \n",
       "...            ...      ...        ...        ...        ...          ...   \n",
       "588096      588096  1278437         ad          0          1      Tuesday   \n",
       "588097      588097  1327975         ad          0          1      Tuesday   \n",
       "588098      588098  1038442         ad          0          3      Tuesday   \n",
       "588099      588099  1496395         ad          0          1      Tuesday   \n",
       "588100      588100  1237779         ad          0          1      Tuesday   \n",
       "\n",
       "        most ads hour  \n",
       "0                  20  \n",
       "1                  22  \n",
       "2                  18  \n",
       "3                  10  \n",
       "4                  14  \n",
       "...               ...  \n",
       "588096             23  \n",
       "588097             23  \n",
       "588098             23  \n",
       "588099             23  \n",
       "588100             23  \n",
       "\n",
       "[564577 rows x 7 columns]"
      ]
     },
     "execution_count": 26,
     "metadata": {},
     "output_type": "execute_result"
    }
   ],
   "source": [
    "#Statistical_Testing\n",
    "cntrl_grp,test_grp=data[data[\"test group\"]==\"psa\"],data[data[\"test group\"]==\"ad\"]\n",
    "test_grp"
   ]
  },
  {
   "cell_type": "code",
   "execution_count": 27,
   "id": "7906c99e",
   "metadata": {},
   "outputs": [
    {
     "data": {
      "text/html": [
       "<div>\n",
       "<style scoped>\n",
       "    .dataframe tbody tr th:only-of-type {\n",
       "        vertical-align: middle;\n",
       "    }\n",
       "\n",
       "    .dataframe tbody tr th {\n",
       "        vertical-align: top;\n",
       "    }\n",
       "\n",
       "    .dataframe thead th {\n",
       "        text-align: right;\n",
       "    }\n",
       "</style>\n",
       "<table border=\"1\" class=\"dataframe\">\n",
       "  <thead>\n",
       "    <tr style=\"text-align: right;\">\n",
       "      <th></th>\n",
       "      <th>Unnamed: 0</th>\n",
       "      <th>user id</th>\n",
       "      <th>test group</th>\n",
       "      <th>converted</th>\n",
       "      <th>total ads</th>\n",
       "      <th>most ads day</th>\n",
       "      <th>most ads hour</th>\n",
       "    </tr>\n",
       "  </thead>\n",
       "  <tbody>\n",
       "    <tr>\n",
       "      <th>18</th>\n",
       "      <td>18</td>\n",
       "      <td>900681</td>\n",
       "      <td>psa</td>\n",
       "      <td>0</td>\n",
       "      <td>248</td>\n",
       "      <td>Saturday</td>\n",
       "      <td>19</td>\n",
       "    </tr>\n",
       "    <tr>\n",
       "      <th>38</th>\n",
       "      <td>38</td>\n",
       "      <td>905704</td>\n",
       "      <td>psa</td>\n",
       "      <td>0</td>\n",
       "      <td>27</td>\n",
       "      <td>Thursday</td>\n",
       "      <td>8</td>\n",
       "    </tr>\n",
       "    <tr>\n",
       "      <th>68</th>\n",
       "      <td>68</td>\n",
       "      <td>904595</td>\n",
       "      <td>psa</td>\n",
       "      <td>0</td>\n",
       "      <td>13</td>\n",
       "      <td>Tuesday</td>\n",
       "      <td>19</td>\n",
       "    </tr>\n",
       "    <tr>\n",
       "      <th>140</th>\n",
       "      <td>140</td>\n",
       "      <td>901904</td>\n",
       "      <td>psa</td>\n",
       "      <td>0</td>\n",
       "      <td>32</td>\n",
       "      <td>Wednesday</td>\n",
       "      <td>19</td>\n",
       "    </tr>\n",
       "    <tr>\n",
       "      <th>157</th>\n",
       "      <td>157</td>\n",
       "      <td>902234</td>\n",
       "      <td>psa</td>\n",
       "      <td>0</td>\n",
       "      <td>105</td>\n",
       "      <td>Tuesday</td>\n",
       "      <td>19</td>\n",
       "    </tr>\n",
       "    <tr>\n",
       "      <th>...</th>\n",
       "      <td>...</td>\n",
       "      <td>...</td>\n",
       "      <td>...</td>\n",
       "      <td>...</td>\n",
       "      <td>...</td>\n",
       "      <td>...</td>\n",
       "      <td>...</td>\n",
       "    </tr>\n",
       "    <tr>\n",
       "      <th>588052</th>\n",
       "      <td>588052</td>\n",
       "      <td>900959</td>\n",
       "      <td>psa</td>\n",
       "      <td>0</td>\n",
       "      <td>16</td>\n",
       "      <td>Tuesday</td>\n",
       "      <td>22</td>\n",
       "    </tr>\n",
       "    <tr>\n",
       "      <th>588063</th>\n",
       "      <td>588063</td>\n",
       "      <td>902828</td>\n",
       "      <td>psa</td>\n",
       "      <td>0</td>\n",
       "      <td>3</td>\n",
       "      <td>Tuesday</td>\n",
       "      <td>22</td>\n",
       "    </tr>\n",
       "    <tr>\n",
       "      <th>588066</th>\n",
       "      <td>588066</td>\n",
       "      <td>914578</td>\n",
       "      <td>psa</td>\n",
       "      <td>0</td>\n",
       "      <td>1</td>\n",
       "      <td>Tuesday</td>\n",
       "      <td>22</td>\n",
       "    </tr>\n",
       "    <tr>\n",
       "      <th>588069</th>\n",
       "      <td>588069</td>\n",
       "      <td>909042</td>\n",
       "      <td>psa</td>\n",
       "      <td>0</td>\n",
       "      <td>6</td>\n",
       "      <td>Tuesday</td>\n",
       "      <td>22</td>\n",
       "    </tr>\n",
       "    <tr>\n",
       "      <th>588081</th>\n",
       "      <td>588081</td>\n",
       "      <td>904721</td>\n",
       "      <td>psa</td>\n",
       "      <td>0</td>\n",
       "      <td>16</td>\n",
       "      <td>Tuesday</td>\n",
       "      <td>23</td>\n",
       "    </tr>\n",
       "  </tbody>\n",
       "</table>\n",
       "<p>23524 rows × 7 columns</p>\n",
       "</div>"
      ],
      "text/plain": [
       "        Unnamed: 0  user id test group  converted  total ads most ads day  \\\n",
       "18              18   900681        psa          0        248     Saturday   \n",
       "38              38   905704        psa          0         27     Thursday   \n",
       "68              68   904595        psa          0         13      Tuesday   \n",
       "140            140   901904        psa          0         32    Wednesday   \n",
       "157            157   902234        psa          0        105      Tuesday   \n",
       "...            ...      ...        ...        ...        ...          ...   \n",
       "588052      588052   900959        psa          0         16      Tuesday   \n",
       "588063      588063   902828        psa          0          3      Tuesday   \n",
       "588066      588066   914578        psa          0          1      Tuesday   \n",
       "588069      588069   909042        psa          0          6      Tuesday   \n",
       "588081      588081   904721        psa          0         16      Tuesday   \n",
       "\n",
       "        most ads hour  \n",
       "18                 19  \n",
       "38                  8  \n",
       "68                 19  \n",
       "140                19  \n",
       "157                19  \n",
       "...               ...  \n",
       "588052             22  \n",
       "588063             22  \n",
       "588066             22  \n",
       "588069             22  \n",
       "588081             23  \n",
       "\n",
       "[23524 rows x 7 columns]"
      ]
     },
     "execution_count": 27,
     "metadata": {},
     "output_type": "execute_result"
    }
   ],
   "source": [
    "cntrl_grp"
   ]
  },
  {
   "cell_type": "code",
   "execution_count": 28,
   "id": "b72e6f96",
   "metadata": {},
   "outputs": [],
   "source": [
    "t_stat, p_val = stats.ttest_ind(test_grp['converted'], cntrl_grp['converted'])"
   ]
  },
  {
   "cell_type": "code",
   "execution_count": 29,
   "id": "322b0122",
   "metadata": {},
   "outputs": [
    {
     "data": {
      "text/plain": [
       "7.37040597428566"
      ]
     },
     "execution_count": 29,
     "metadata": {},
     "output_type": "execute_result"
    }
   ],
   "source": [
    "# T_statistics\n",
    "t_stat"
   ]
  },
  {
   "cell_type": "code",
   "execution_count": 32,
   "id": "4299c0ba",
   "metadata": {},
   "outputs": [
    {
     "data": {
      "text/plain": [
       "1.7033052627831264e-13"
      ]
     },
     "execution_count": 32,
     "metadata": {},
     "output_type": "execute_result"
    }
   ],
   "source": [
    "# P_Value\n",
    "p_val"
   ]
  },
  {
   "cell_type": "code",
   "execution_count": 34,
   "id": "2bf16217",
   "metadata": {},
   "outputs": [
    {
     "name": "stdout",
     "output_type": "stream",
     "text": [
      "Ignoring the null hypothese significante conversion rate of  ad and psa exists \n"
     ]
    }
   ],
   "source": [
    "if p_val<0.05:\n",
    "    print(\"Ignoring the null hypothese significante conversion rate of  ad and psa exists \")\n",
    "else:\n",
    "    print(\"Couldnt ignore the null hypothesis Significant rates between ad and psa doesnt esist\")"
   ]
  },
  {
   "cell_type": "code",
   "execution_count": 38,
   "id": "990c4ec0",
   "metadata": {},
   "outputs": [
    {
     "name": "stdout",
     "output_type": "stream",
     "text": [
      "Most Ads Day Analysis - F-statistic: 68.38818386898062 P-value:  1.8032007655359558e-85\n"
     ]
    }
   ],
   "source": [
    "# Most Ads Day Analysis\n",
    "anova_result_day = stats.f_oneway(\n",
    "    data[data['most ads day'] == 'Monday']['converted'],\n",
    "    data[data['most ads day'] == 'Tuesday']['converted'],\n",
    "    data[data['most ads day'] == 'Wednesday']['converted'],\n",
    "    data[data['most ads day'] == 'Thursday']['converted'],\n",
    "    data[data['most ads day'] == 'Friday']['converted'],\n",
    "    data[data['most ads day'] == 'Saturday']['converted'],\n",
    "    data[data['most ads day'] == 'Sunday']['converted']\n",
    ")\n",
    "print(\"Most Ads Day Analysis - F-statistic:\",anova_result_day.statistic, \"P-value: \",anova_result_day.pvalue)"
   ]
  },
  {
   "cell_type": "code",
   "execution_count": 39,
   "id": "44ed5a12",
   "metadata": {},
   "outputs": [
    {
     "name": "stdout",
     "output_type": "stream",
     "text": [
      "Reject the null hypothesis: The day with the most ads seen significantly affects the conversion rate.\n"
     ]
    }
   ],
   "source": [
    "if anova_result_day.pvalue < 0.05:\n",
    "    print(\"Reject the null hypothesis: The day with the most ads seen significantly affects the conversion rate.\")\n",
    "else:\n",
    "    print(\"Fail to reject the null hypothesis: The day with the most ads seen does not significantly affect conversion rates.\")"
   ]
  },
  {
   "cell_type": "code",
   "execution_count": 40,
   "id": "7ccfa6ff",
   "metadata": {},
   "outputs": [
    {
     "name": "stdout",
     "output_type": "stream",
     "text": [
      "Most Ads Hour Analysis - F-statistic: 18.742037312974496, P-value: 7.482025334833055e-77\n"
     ]
    }
   ],
   "source": [
    "# Most Ads Hour Analysis\n",
    "anova_result_hour = stats.f_oneway(\n",
    "    data[data['most ads hour'] == 0]['converted'],\n",
    "    data[data['most ads hour'] == 1]['converted'],\n",
    "    data[data['most ads hour'] == 2]['converted'],\n",
    "    data[data['most ads hour'] == 3]['converted'],\n",
    "    data[data['most ads hour'] == 4]['converted'],\n",
    "    data[data['most ads hour'] == 5]['converted'],\n",
    "    data[data['most ads hour'] == 6]['converted'],\n",
    "    data[data['most ads hour'] == 7]['converted'],\n",
    "    data[data['most ads hour'] == 8]['converted'],\n",
    "    data[data['most ads hour'] == 9]['converted'],\n",
    "    data[data['most ads hour'] == 10]['converted'],\n",
    "    data[data['most ads hour'] == 11]['converted'],\n",
    "    data[data['most ads hour'] == 12]['converted'],\n",
    "    data[data['most ads hour'] == 13]['converted'],\n",
    "    data[data['most ads hour'] == 14]['converted'],\n",
    "    data[data['most ads hour'] == 15]['converted'],\n",
    "    data[data['most ads hour'] == 16]['converted'],\n",
    "    data[data['most ads hour'] == 17]['converted'],\n",
    "    data[data['most ads hour'] == 18]['converted'],\n",
    "    data[data['most ads hour'] == 19]['converted'],\n",
    "    data[data['most ads hour'] == 20]['converted'],\n",
    "    data[data['most ads hour'] == 21]['converted'],\n",
    "    data[data['most ads hour'] == 22]['converted'],\n",
    "    data[data['most ads hour'] == 23]['converted']\n",
    ")\n",
    "print(f\"Most Ads Hour Analysis - F-statistic: {anova_result_hour.statistic}, P-value: {anova_result_hour.pvalue}\")"
   ]
  },
  {
   "cell_type": "code",
   "execution_count": 41,
   "id": "ac67630f",
   "metadata": {},
   "outputs": [
    {
     "name": "stdout",
     "output_type": "stream",
     "text": [
      "Reject the null hypothesis: The hour with the most ads seen significantly affects the conversion rate.\n"
     ]
    }
   ],
   "source": [
    "if anova_result_hour.pvalue < 0.05:\n",
    "    print(\"Reject the null hypothesis: The hour with the most ads seen significantly affects the conversion rate.\")\n",
    "else:\n",
    "    print(\"Fail to reject the null hypothesis: The hour with the most ads seen does not significantly affect conversion rates.\")"
   ]
  },
  {
   "cell_type": "code",
   "execution_count": 42,
   "id": "3f4138f6",
   "metadata": {},
   "outputs": [
    {
     "name": "stdout",
     "output_type": "stream",
     "text": [
      "Total Ads (Binned) Analysis - F-statistic: 1245.6689124986833, P-value: 0.0\n"
     ]
    }
   ],
   "source": [
    "# Total Ads Analysis\n",
    "df_subset = data[data['total ads'] < 50].copy()\n",
    "\n",
    "#create bins for total_ads\n",
    "# Create bins for total_ads using .loc\n",
    "df_subset.loc[:, 'total_ads_bin'] = pd.cut(df_subset['total ads'], bins=[-1, 1, 5, 10, 20, 30, 40, 50], labels=['0-1', '2-5', '6-10', '11-20', '21-30', '31-40', '41-50'])\n",
    "\n",
    "#perform ANOVA on binned data\n",
    "anova_result_bin = stats.f_oneway(\n",
    "    df_subset[df_subset['total_ads_bin'] == '0-1']['converted'],\n",
    "    df_subset[df_subset['total_ads_bin'] == '2-5']['converted'],\n",
    "    df_subset[df_subset['total_ads_bin'] == '6-10']['converted'],\n",
    "    df_subset[df_subset['total_ads_bin'] == '11-20']['converted'],\n",
    "    df_subset[df_subset['total_ads_bin'] == '21-30']['converted'],\n",
    "    df_subset[df_subset['total_ads_bin'] == '31-40']['converted'],\n",
    "    df_subset[df_subset['total_ads_bin'] == '41-50']['converted']\n",
    ")\n",
    "\n",
    "print(f\"Total Ads (Binned) Analysis - F-statistic: {anova_result_bin.statistic}, P-value: {anova_result_bin.pvalue}\")"
   ]
  },
  {
   "cell_type": "code",
   "execution_count": 43,
   "id": "159983de",
   "metadata": {},
   "outputs": [
    {
     "name": "stdout",
     "output_type": "stream",
     "text": [
      "Reject the null hypothesis: There is a significant difference in conversion rates among different levels of total ads seen (binned).\n"
     ]
    }
   ],
   "source": [
    "if anova_result_bin.pvalue < 0.05:\n",
    "    print(\"Reject the null hypothesis: There is a significant difference in conversion rates among different levels of total ads seen (binned).\")\n",
    "else:\n",
    "    print(\"Fail to reject the null hypothesis: The number of ads seen (binned) does not significantly affect conversion rates.\")"
   ]
  },
  {
   "cell_type": "code",
   "execution_count": 45,
   "id": "d55c9164",
   "metadata": {
    "scrolled": true
   },
   "outputs": [
    {
     "data": {
      "image/png": "[encoded data removed]",
      "text/plain": [
       "<Figure size 800x600 with 1 Axes>"
      ]
     },
     "metadata": {},
     "output_type": "display_data"
    }
   ],
   "source": [
    "#conversion Rates for Test Group\n",
    "conversion_rates = data.groupby('test group')['converted'].mean().reset_index()\n",
    "conversion_rates.columns = ['Test Group', 'Conversion Rate']\n",
    "plt.figure(figsize=(8, 6))\n",
    "sns.barplot(x='Test Group', y='Conversion Rate', data=conversion_rates)\n",
    "plt.title('Conversion Rates for Control and Test Groups')\n",
    "plt.xlabel('Test Group')\n",
    "plt.ylabel('Conversion Rate')\n",
    "plt.show()"
   ]
  },
  {
   "cell_type": "code",
   "execution_count": 47,
   "id": "c4d808eb",
   "metadata": {},
   "outputs": [
    {
     "data": {
      "image/png": "[encoded data removed]",
      "text/plain": [
       "<Figure size 1000x600 with 1 Axes>"
      ]
     },
     "metadata": {},
     "output_type": "display_data"
    }
   ],
   "source": [
    "#conversion Rate by Most Ads Day\n",
    "day_conversion_rate = data.groupby('most ads day')['converted'].mean().reset_index()\n",
    "plt.figure(figsize=(10, 6))\n",
    "sns.barplot(data=day_conversion_rate, x='most ads day', y='converted')\n",
    "plt.title('Conversion Rate by Day with Most Ads Seen')\n",
    "plt.xlabel('Day of the Week')\n",
    "plt.ylabel('Conversion Rate')\n",
    "plt.show()"
   ]
  },
  {
   "cell_type": "code",
   "execution_count": 49,
   "id": "31ddd451",
   "metadata": {},
   "outputs": [
    {
     "data": {
      "image/png": "[encoded data removed]",
      "text/plain": [
       "<Figure size 1000x600 with 1 Axes>"
      ]
     },
     "metadata": {},
     "output_type": "display_data"
    }
   ],
   "source": [
    "#conversion Rate by Most Ads Hour\n",
    "hour_conversion_rate = data.groupby('most ads hour')['converted'].mean().reset_index()\n",
    "plt.figure(figsize=(10, 6))\n",
    "sns.barplot(data=hour_conversion_rate, x='most ads hour', y='converted')\n",
    "plt.title('Conversion Rate by Hour with Most Ads Seen')\n",
    "plt.xlabel('Hour of the Day')\n",
    "plt.ylabel('Conversion Rate')\n",
    "plt.show()"
   ]
  },
  {
   "cell_type": "code",
   "execution_count": 50,
   "id": "ba46dbd7",
   "metadata": {},
   "outputs": [
    {
     "data": {
      "image/png": "[encoded data removed]",
      "text/plain": [
       "<Figure size 1000x600 with 1 Axes>"
      ]
     },
     "metadata": {},
     "output_type": "display_data"
    }
   ],
   "source": [
    "#conversion Rate by Total Ads\n",
    "ads_conversion_rate_bin = df_subset.groupby('total_ads_bin')['converted'].mean().reset_index()\n",
    "plt.figure(figsize=(10, 6))\n",
    "sns.barplot(data=ads_conversion_rate_bin, x='total_ads_bin', y='converted')\n",
    "plt.title('Conversion Rate by Total Ads Seen (Binned) - Total Ads < 50')\n",
    "plt.xlabel('Total Ads Seen (Binned)')\n",
    "plt.ylabel('Conversion Rate')\n",
    "plt.show()"
   ]
  },
  {
   "cell_type": "code",
   "execution_count": null,
   "id": "0dd7f3b4",
   "metadata": {},
   "outputs": [],
   "source": []
  }
 ],
 "metadata": {
  "kernelspec": {
   "display_name": "Python 3 (ipykernel)",
   "language": "python",
   "name": "python3"
  },
  "language_info": {
   "codemirror_mode": {
    "name": "ipython",
    "version": 3
   },
   "file_extension": ".py",
   "mimetype": "text/x-python",
   "name": "python",
   "nbconvert_exporter": "python",
   "pygments_lexer": "ipython3",
   "version": "3.10.9"
  }
 },
 "nbformat": 4,
 "nbformat_minor": 5
}
